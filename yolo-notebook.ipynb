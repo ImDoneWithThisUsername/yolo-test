{
 "cells": [
  {
   "cell_type": "code",
   "execution_count": null,
   "id": "e6b2baf6",
   "metadata": {},
   "outputs": [],
   "source": [
    "import numpy\n",
    "import matplotlib.pyplot as plt\n",
    "import cv2"
   ]
  },
  {
   "cell_type": "code",
   "execution_count": null,
   "id": "5b1a7320",
   "metadata": {},
   "outputs": [],
   "source": [
    "## loading yolo model\n",
    "net = cv2.dnn.readNetFromDarknet('yolo2.cfg','yolo3-spp.weights')"
   ]
  },
  {
   "cell_type": "code",
   "execution_count": null,
   "id": "af59c195",
   "metadata": {},
   "outputs": [],
   "source": [
    "classes = []\n",
    "with open('coco.names','r') as f:\n",
    "    classes = [line.strip() for line in f.readlines()]"
   ]
  },
  {
   "cell_type": "code",
   "execution_count": null,
   "id": "d55d112c",
   "metadata": {},
   "outputs": [],
   "source": [
    "classes"
   ]
  }
 ],
 "metadata": {
  "kernelspec": {
   "display_name": "Python 3.9.7 ('venv': venv)",
   "language": "python",
   "name": "python3"
  },
  "language_info": {
   "codemirror_mode": {
    "name": "ipython",
    "version": 3
   },
   "file_extension": ".py",
   "mimetype": "text/x-python",
   "name": "python",
   "nbconvert_exporter": "python",
   "pygments_lexer": "ipython3",
   "version": "3.9.7"
  },
  "vscode": {
   "interpreter": {
    "hash": "8265652b417781e2cfb9ec4903a7faf4aa4c67af334e7d46e80bf39d78328cf6"
   }
  }
 },
 "nbformat": 4,
 "nbformat_minor": 5
}
